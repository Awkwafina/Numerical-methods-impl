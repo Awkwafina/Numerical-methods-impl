{
 "cells": [
  {
   "cell_type": "code",
   "execution_count": 94,
   "metadata": {},
   "outputs": [],
   "source": [
    "import numpy as np\n",
    "\n",
    "def f(x):\n",
    "    return 2*np.sin(x)-x**2/10\n",
    "\n",
    "def gold(x_l,x_u,tol):\n",
    "    d=(np.sqrt(5)-1)*(x_u-x_l)/2\n",
    "    d0=x_u-x_l\n",
    "    imax=np.ceil(np.log(tol/d0)/np.log((np.sqrt(5)-1)/2))\n",
    "    x1=x_l+d\n",
    "    x2=x_u-d\n",
    "    f1=f(x1)\n",
    "    f2=f(x2)\n",
    "    for i in range(1,17,1):\n",
    "        d=(np.sqrt(5)-1)*(x_u-x_l)/2\n",
    "        if (f1>f2):\n",
    "            x_l=x2\n",
    "            x2=x1\n",
    "            x1=x_l+d\n",
    "            f2=f1\n",
    "            f1=f(x1)\n",
    "        else:\n",
    "            x_u=x1\n",
    "            x1=x2\n",
    "            x2=x_u-d\n",
    "            f1=f2\n",
    "            f2=f(x2)\n",
    "    if f1>f2:\n",
    "        return x1,f1\n",
    "    else:\n",
    "        return x2,f2\n",
    "        \n",
    "                   "
   ]
  },
  {
   "cell_type": "code",
   "execution_count": 95,
   "metadata": {},
   "outputs": [
    {
     "name": "stdout",
     "output_type": "stream",
     "text": [
      "(1.437694101250947, 1.7756135045562806)\n"
     ]
    }
   ],
   "source": [
    "xopt,fxopt=gold(1,4,0.001)\n",
    "print(f'{xopt,fxopt}')"
   ]
  },
  {
   "cell_type": "code",
   "execution_count": 26,
   "metadata": {},
   "outputs": [],
   "source": [
    "import numpy as np\n",
    "def f(x):\n",
    "    return 2*np.sin(x)-x**2/10\n",
    "def parabolic(x0,x1,x2,n):\n",
    "    f0=f(x0)\n",
    "    f1=f(x1)\n",
    "    f2=f(x2)\n",
    "    for i in range(1,n+1,1):\n",
    "        \n",
    "        x3=(f0*(x1**2-x2**2)+f1*(x2**2-x0**2)+f2*(x0**2-x1**2))/(2*f0*(x1-x2)+2*f1*(x2-x0)+2*f2*(x0-x1))\n",
    "        f3=f(x3)\n",
    "        if(f3>f1 and x3>x1):\n",
    "            x0=x1\n",
    "            x1=x3\n",
    "            f0=f1\n",
    "            f1=f3\n",
    "        elif(f3>f1 and x3<x1):\n",
    "            x2=x1\n",
    "            x1=x3\n",
    "            f2=f1\n",
    "            f1=f3\n",
    "        elif(f3<f1 and x3>x1):\n",
    "            x2=x3\n",
    "            f2=f3\n",
    "        else:\n",
    "            x0=x3\n",
    "            f0=f3\n",
    "    if f3>f1:   \n",
    "        return x3,f3\n",
    "    else:\n",
    "        return x1,f1"
   ]
  },
  {
   "cell_type": "code",
   "execution_count": 27,
   "metadata": {},
   "outputs": [
    {
     "name": "stdout",
     "output_type": "stream",
     "text": [
      "(1.4275483108893277, 1.7757256531343095)\n"
     ]
    }
   ],
   "source": [
    "print(f'{parabolic(0,1,4,5)}')"
   ]
  },
  {
   "cell_type": "code",
   "execution_count": 47,
   "metadata": {},
   "outputs": [],
   "source": [
    "import numpy as np\n",
    "def fd1(x):\n",
    "    return 2*np.cos(x)-x/5\n",
    "def fd2(x):\n",
    "    return -2*np.sin(x)-1/5\n",
    "def newton(x0,E):\n",
    "    err=100\n",
    "    xold=x0\n",
    "    while err>E:\n",
    "        xnew=xold-fd1(xold)/fd2(xold)\n",
    "        err=abs((xnew-xold)/xnew)*100\n",
    "        xold=xnew\n",
    "        print(f'{xnew}')\n",
    "    return xnew\n",
    "        "
   ]
  },
  {
   "cell_type": "code",
   "execution_count": 48,
   "metadata": {},
   "outputs": [
    {
     "name": "stdout",
     "output_type": "stream",
     "text": [
      "0.9950815513259932\n",
      "1.4690107527596457\n",
      "1.4276423210187772\n",
      "1.4275517793013137\n",
      "1.4275517793013137\n"
     ]
    }
   ],
   "source": [
    "print(f'{newton(2.5,0.01)}')"
   ]
  },
  {
   "cell_type": "code",
   "execution_count": null,
   "metadata": {},
   "outputs": [],
   "source": [
    "def dfdx(x,y):\n",
    "    return 2*y+2-2*x\n",
    "def dfdy(x,y):\n",
    "    return 2*x-4*y\n",
    "def g(h):\n",
    "    return -180*h**2+72*h-7\n",
    "def steepest(h,x0,y0):\n",
    "    x=x0+dfdx(x0,y0)*h\n",
    "    y=y0+dfdy(x0,y0)*h\n",
    "    "
   ]
  },
  {
   "cell_type": "code",
   "execution_count": 84,
   "metadata": {},
   "outputs": [
    {
     "name": "stdout",
     "output_type": "stream",
     "text": [
      "[[1. 0. 0.]\n",
      " [0. 1. 0.]\n",
      " [0. 0. 1.]]\n"
     ]
    }
   ],
   "source": [
    "print(np.eye(3))"
   ]
  }
 ],
 "metadata": {
  "kernelspec": {
   "display_name": "Python 3",
   "language": "python",
   "name": "python3"
  },
  "language_info": {
   "codemirror_mode": {
    "name": "ipython",
    "version": 3
   },
   "file_extension": ".py",
   "mimetype": "text/x-python",
   "name": "python",
   "nbconvert_exporter": "python",
   "pygments_lexer": "ipython3",
   "version": "3.7.1"
  }
 },
 "nbformat": 4,
 "nbformat_minor": 2
}
