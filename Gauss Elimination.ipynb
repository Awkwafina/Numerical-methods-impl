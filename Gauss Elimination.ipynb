{
 "cells": [
  {
   "cell_type": "code",
   "execution_count": 4,
   "metadata": {},
   "outputs": [
    {
     "name": "stdout",
     "output_type": "stream",
     "text": [
      "(array([[ 1, -2,  1],\n",
      "       [ 0,  3,  0],\n",
      "       [ 0,  0, -1]]), array([ 1., -2.,  3.]))\n"
     ]
    }
   ],
   "source": [
    "def gauss(A,b):\n",
    "    \n",
    "    for C in range (0,len(b)-1,1):\n",
    "        for R in range (C+1,len(b),1):\n",
    "            m=A[R,C]/A[C,C]\n",
    "            A[R,:]=A[R,:]-m*A[C,:]\n",
    "            b[R]=b[R]-m*b[C]\n",
    "            \n",
    "    x=np.empty(b.shape)\n",
    "    x[len(b)-1]=b[len(b)-1]/A[len(b)-1,len(b)-1]\n",
    "    for R in range(len(b)-2,-1,-1):\n",
    "        sum=0\n",
    "        for C in range(R+1,len(b),1):\n",
    "            sum=sum+x[C]*A[R,C]\n",
    "        \n",
    "        x[R]=(b[R]-sum)/A[R,R]\n",
    "    return A,x\n",
    "\n",
    "import numpy as np\n",
    "from scipy import linalg\n",
    "\n",
    "A=np.array([[1,-2,1],[2,-1,2],[3,-1,2]])\n",
    "b=np.array([8,10,11])\n",
    "print(f'{gauss(A,b)}')\n",
    "            "
   ]
  },
  {
   "cell_type": "code",
   "execution_count": 3,
   "metadata": {},
   "outputs": [],
   "source": [
    "def LU(A,b):\n",
    "    m=np.empty(A.shape)\n",
    "    U=np.copy(A)\n",
    "    for C in range (0,len(b)-1,1):\n",
    "        for R in range (C+1,len(b),1):\n",
    "            m[R,C]=U[R,C]/U[C,C]\n",
    "            U[R,:]=U[R,:]-m[R,C]*U[C,:]\n",
    "            \n",
    "       \n",
    "    L=np.empty(A.shape)\n",
    "    for C in range (0,len(b),1):\n",
    "        for R in range(0,len(b),1):\n",
    "            if(R==C):\n",
    "                L[R,C]=1\n",
    "            elif(C>R):\n",
    "                L[R,C]=0\n",
    "            else:\n",
    "                L[R,C]=m[R,C]\n",
    "    y=np.empty(b.shape)\n",
    "    y[0]=b[0]\n",
    "    for R in range(1,len(b),1):\n",
    "        sum=0\n",
    "        for C in range(0,R,1):\n",
    "            sum=sum+y[C]*L[R,C]\n",
    "        y[R]=b[R]-sum\n",
    "        \n",
    "    x=np.empty(y.shape)\n",
    "    x[len(y)-1]=y[len(y)-1]/U[len(y)-1,len(y)-1]\n",
    "    for R in range(len(y)-2,-1,-1):\n",
    "        sum=0\n",
    "        for C in range(R+1,len(y),1):\n",
    "            sum=sum+x[C]*U[R,C]\n",
    "        \n",
    "        x[R]=(y[R]-sum)/U[R,R]\n",
    "        \n",
    "    return L,U,x "
   ]
  },
  {
   "cell_type": "code",
   "execution_count": 16,
   "metadata": {},
   "outputs": [
    {
     "name": "stdout",
     "output_type": "stream",
     "text": [
      "(array([[1., 0.],\n",
      "       [2., 1.]]), array([[1.  , 0.75],\n",
      "       [0.  , 3.5 ]]), array([-0.14285714,  2.85714286]))\n",
      "[-0.14285714  2.85714286]\n"
     ]
    }
   ],
   "source": [
    "A=np.array([[4,3],[2,5]])\n",
    "A1=np.array([[1,3/4],[2,5]])\n",
    "c=np.array([8,14])\n",
    "c1=np.array([2,14])\n",
    "print(f'{LU(A1,c1)}')\n",
    "x=np.linalg.solve(A,c)\n",
    "print(f'{x}')"
   ]
  },
  {
   "cell_type": "code",
   "execution_count": 52,
   "metadata": {},
   "outputs": [
    {
     "data": {
      "text/plain": [
       "array([1., 2., 3.])"
      ]
     },
     "execution_count": 52,
     "metadata": {},
     "output_type": "execute_result"
    }
   ],
   "source": [
    "A=np.array([[6,-2,2],[12,-8,6],[3,-13,2]])\n",
    "b=np.array([8,14,-17])\n",
    "np.linalg.solve(A,b)\n"
   ]
  },
  {
   "cell_type": "code",
   "execution_count": 1,
   "metadata": {},
   "outputs": [],
   "source": [
    "def inverse(A):\n",
    "    m=np.empty(A.shape)\n",
    "    U=np.copy(A)\n",
    "    B=np.empty(A.shape)\n",
    "    for R in range(0,len(A),1):\n",
    "        for C in range(0, len(A),1):\n",
    "            if(R==C):\n",
    "                B[R,C]=1\n",
    "            else:\n",
    "                B[R,C]=0\n",
    "           \n",
    "    for C in range (0,len(A)-1,1):\n",
    "        for R in range (C+1,len(A),1):\n",
    "            m[R,C]=U[R,C]/U[C,C]\n",
    "            U[R,:]=U[R,:]-m[R,C]*U[C,:]\n",
    "            \n",
    "    L=np.empty(A.shape)\n",
    "    for C in range (0,len(A),1):\n",
    "        for R in range(0,len(A),1):\n",
    "            if(R==C):\n",
    "                L[R,C]=1\n",
    "            elif(C>R):\n",
    "                L[R,C]=0\n",
    "            else:\n",
    "                L[R,C]=m[R,C]\n",
    "                \n",
    "    y=np.empty(len(B))\n",
    "    x=np.empty(y.shape)\n",
    "    inv=np.empty(A.shape)\n",
    "    \n",
    "    for C in range(0,len(B),1):\n",
    "        for R in range(0,len(B),1):\n",
    "            y[0]=B[0,R]\n",
    "            for R1 in range(1,len(B),1):\n",
    "                sum=0\n",
    "                for C1 in range(0,R1,1):\n",
    "                    sum=sum+y[C1]*L[R1,C1]\n",
    "        \n",
    "                y[R1]=B[R1,R1]-sum\n",
    "                print(f'{y}')\n",
    "   \n",
    "            x[len(y)-1]=y[len(y)-1]/U[len(y)-1,len(y)-1]\n",
    "            for R2 in range(len(y)-2,-1,-1):\n",
    "                sum=0\n",
    "                for C2 in range(R2+1,len(y),1):\n",
    "                    sum=sum+x[C2]*U[R2,C2]\n",
    "        \n",
    "                x[R2]=(y[R2]-sum)/U[R2,R2]\n",
    "                inv[]\n",
    "                print(f'{x}')\n",
    "    \n",
    "           \n",
    "                \n",
    "    return inv"
   ]
  },
  {
   "cell_type": "code",
   "execution_count": 5,
   "metadata": {},
   "outputs": [
    {
     "name": "stdout",
     "output_type": "stream",
     "text": [
      "[ 1. -1.]\n",
      "[-2.  1.]\n",
      "[0. 1.]\n",
      "[ 3. -1.]\n",
      "[ 1. -1.]\n",
      "[-2.  1.]\n",
      "[0. 1.]\n",
      "[ 3. -1.]\n"
     ]
    },
    {
     "data": {
      "text/plain": [
       "array([[9.35219335e-313, 6.95312939e-310],\n",
       "       [4.94065646e-324,             nan]])"
      ]
     },
     "execution_count": 5,
     "metadata": {},
     "output_type": "execute_result"
    }
   ],
   "source": [
    "B=np.array([[1,3],[2,5]])\n",
    "inverse(B)"
   ]
  },
  {
   "cell_type": "code",
   "execution_count": null,
   "metadata": {},
   "outputs": [],
   "source": []
  },
  {
   "cell_type": "code",
   "execution_count": null,
   "metadata": {},
   "outputs": [],
   "source": []
  }
 ],
 "metadata": {
  "kernelspec": {
   "display_name": "Python 3",
   "language": "python",
   "name": "python3"
  },
  "language_info": {
   "codemirror_mode": {
    "name": "ipython",
    "version": 3
   },
   "file_extension": ".py",
   "mimetype": "text/x-python",
   "name": "python",
   "nbconvert_exporter": "python",
   "pygments_lexer": "ipython3",
   "version": "3.7.1"
  }
 },
 "nbformat": 4,
 "nbformat_minor": 2
}
