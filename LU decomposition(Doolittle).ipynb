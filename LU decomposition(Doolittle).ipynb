{
 "cells": [
  {
   "cell_type": "code",
   "execution_count": null,
   "metadata": {},
   "outputs": [],
   "source": [
    "def LU(A,b):\n",
    "    m=np.empty(A.shape)\n",
    "    U=np.copy(A)\n",
    "    for C in range (0,len(b)-1,1):\n",
    "        for R in range (C+1,len(b),1):\n",
    "            m[R,C]=U[R,C]/U[C,C]\n",
    "            U[R,:]=U[R,:]-m[R,C]*U[C,:]\n",
    "            \n",
    "       \n",
    "    L=np.empty(A.shape)\n",
    "    for C in range (0,len(b),1):\n",
    "        for R in range(0,len(b),1):\n",
    "            if(R==C):\n",
    "                L[R,C]=1\n",
    "            elif(C>R):\n",
    "                L[R,C]=0\n",
    "            else:\n",
    "                L[R,C]=m[R,C]\n",
    "    y=np.empty(b.shape)\n",
    "    y[0]=b[0]\n",
    "    for R in range(1,len(b),1):\n",
    "        sum=0\n",
    "        for C in range(0,R,1):\n",
    "            sum=sum+y[C]*L[R,C]\n",
    "        y[R]=b[R]-sum\n",
    "        \n",
    "    x=np.empty(y.shape)\n",
    "    x[len(y)-1]=y[len(y)-1]/U[len(y)-1,len(y)-1]\n",
    "    for R in range(len(y)-2,-1,-1):\n",
    "        sum=0\n",
    "        for C in range(R+1,len(y),1):\n",
    "            sum=sum+x[C]*U[R,C]\n",
    "        \n",
    "        x[R]=(y[R]-sum)/U[R,R]\n",
    "        \n",
    "    return L,U,x "
   ]
  }
 ],
 "metadata": {
  "kernelspec": {
   "display_name": "Python 3",
   "language": "python",
   "name": "python3"
  },
  "language_info": {
   "codemirror_mode": {
    "name": "ipython",
    "version": 3
   },
   "file_extension": ".py",
   "mimetype": "text/x-python",
   "name": "python",
   "nbconvert_exporter": "python",
   "pygments_lexer": "ipython3",
   "version": "3.7.1"
  }
 },
 "nbformat": 4,
 "nbformat_minor": 2
}
