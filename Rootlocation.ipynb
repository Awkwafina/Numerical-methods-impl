{
 "cells": [
  {
   "cell_type": "code",
   "execution_count": 1,
   "metadata": {},
   "outputs": [],
   "source": [
    "import numpy as np\n",
    "import math  \n",
    "def f(x):\n",
    "    return np.exp(-0.25*x)*np.cos(2*x)\n",
    "def rootloc(f,x):\n",
    "    nr=0\n",
    "    for i in range(len(x)-1):\n",
    "        if np.sign(f(x[i]))!=np.sign(x[i+1]):\n",
    "            nr=nr+1\n",
    "            print(f'The root is likely to be in [{x[i]},{x[i+1]}]')\n",
    "    if nr==0:\n",
    "       print('No roots')\n",
    "    \n",
    "\n",
    "\n"
   ]
  }
 ],
 "metadata": {
  "kernelspec": {
   "display_name": "Python 3",
   "language": "python",
   "name": "python3"
  },
  "language_info": {
   "codemirror_mode": {
    "name": "ipython",
    "version": 3
   },
   "file_extension": ".py",
   "mimetype": "text/x-python",
   "name": "python",
   "nbconvert_exporter": "python",
   "pygments_lexer": "ipython3",
   "version": "3.7.1"
  }
 },
 "nbformat": 4,
 "nbformat_minor": 2
}
