{
 "cells": [
  {
   "cell_type": "code",
   "execution_count": 10,
   "metadata": {},
   "outputs": [
    {
     "name": "stdout",
     "output_type": "stream",
     "text": [
      "[ 2.99999999 -2.5         7.        ]\n"
     ]
    }
   ],
   "source": [
    "import numpy as np\n",
    "def jacobi(A,b):\n",
    "    x_new=np.empty(b.shape)\n",
    "    x_old=np.empty(b.shape)\n",
    "    for i in range(0,len(b),1):\n",
    "        x_old[i]=0\n",
    "    for i in range(0,5,1):\n",
    "        for R in range(0,len(b),1):\n",
    "            \n",
    "            sum=0\n",
    "            for C in range(0,len(b),1):\n",
    "                sum=sum+x_old[C]*A[R,C]\n",
    "            x_new[R]=(b[R]-sum+x_old[R]*A[R,R])/A[R,R]\n",
    "        x_old=x_new\n",
    "    return x_new\n",
    "\n",
    "A=np.array([[3,-0.1,-0.2],[0.1,7,-0.3],[0.3,-0.2,10]])\n",
    "d=np.array([7.85,-19.3,71.4])\n",
    "print(f'{jacobi(A,d)}')"
   ]
  },
  {
   "cell_type": "code",
   "execution_count": 6,
   "metadata": {},
   "outputs": [
    {
     "name": "stdout",
     "output_type": "stream",
     "text": [
      "[ 2.61666667 -2.79452381  7.00560952]\n",
      "[ 2.99055651 -2.49962468  7.00029081]\n",
      "[ 3.0000319  -2.49998799  6.99999928]\n",
      "[ 3.00000035 -2.50000004  6.99999999]\n",
      "[ 3.  -2.5  7. ]\n",
      "[ 3.  -2.5  7. ]\n"
     ]
    }
   ],
   "source": [
    "import numpy as np\n",
    "def gaussseidel(A,b,E):\n",
    "    x=np.empty(b.shape)\n",
    "    old=0\n",
    "    err=100\n",
    "    for i in range (0,len(b),1):\n",
    "        x[i]=0\n",
    "    for i in range(0,5,1):\n",
    "        for R in range(0,len(A),1):\n",
    "            old=x[0]\n",
    "            sum=0\n",
    "            for C in range(0,len(A),1):\n",
    "                sum=sum+x[C]*A[R,C]\n",
    "            x[R]=(b[R]-sum+x[R]*A[R,R])/A[R,R]\n",
    "        print(f'{x}')\n",
    "               \n",
    "             \n",
    "    return x\n",
    "            \n",
    "            \n",
    "            \n",
    "A=np.array([[3,-0.1,-0.2],[0.1,7,-0.3],[0.3,-0.2,10]])\n",
    "d=np.array([7.85,-19.3,71.4])\n",
    "print(f'{gaussseidel(A,d,0.01)}')"
   ]
  }
 ],
 "metadata": {
  "kernelspec": {
   "display_name": "Python 3",
   "language": "python",
   "name": "python3"
  },
  "language_info": {
   "codemirror_mode": {
    "name": "ipython",
    "version": 3
   },
   "file_extension": ".py",
   "mimetype": "text/x-python",
   "name": "python",
   "nbconvert_exporter": "python",
   "pygments_lexer": "ipython3",
   "version": "3.7.1"
  }
 },
 "nbformat": 4,
 "nbformat_minor": 2
}
