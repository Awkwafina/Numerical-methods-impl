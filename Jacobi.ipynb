{
 "cells": [
  {
   "cell_type": "code",
   "execution_count": 1,
   "metadata": {},
   "outputs": [],
   "source": [
    "import numpy as np\n",
    "def jacobi(A,b):\n",
    "    x_new=np.empty(b.shape)\n",
    "    x_old=np.empty(b.shape)\n",
    "    for i in range(0,len(b),1):\n",
    "        x_old[i]=0\n",
    "    for i in range(0,5,1):\n",
    "        for R in range(0,len(b),1):\n",
    "            \n",
    "            sum=0\n",
    "            for C in range(0,len(b),1):\n",
    "                sum=sum+x_old[C]*A[R,C]\n",
    "            x_new[R]=(b[R]-sum+x_old[R]*A[R,R])/A[R,R]\n",
    "        x_old=x_new\n",
    "    return x_new\n"
   ]
  }
 ],
 "metadata": {
  "kernelspec": {
   "display_name": "Python 3",
   "language": "python",
   "name": "python3"
  },
  "language_info": {
   "codemirror_mode": {
    "name": "ipython",
    "version": 3
   },
   "file_extension": ".py",
   "mimetype": "text/x-python",
   "name": "python",
   "nbconvert_exporter": "python",
   "pygments_lexer": "ipython3",
   "version": "3.7.1"
  }
 },
 "nbformat": 4,
 "nbformat_minor": 2
}
