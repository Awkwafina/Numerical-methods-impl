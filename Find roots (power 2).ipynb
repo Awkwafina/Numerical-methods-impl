{
 "cells": [
  {
   "cell_type": "code",
   "execution_count": 1,
   "metadata": {},
   "outputs": [],
   "source": [
    "def roots(a,b,c):\n",
    "    if(a==0):\n",
    "        print('a cannot be 0')\n",
    "    else:\n",
    "        d=b**2-4*a*c\n",
    "        if(d==0):\n",
    "         x_1=(-b)/(2*a)\n",
    "         print(x_1)\n",
    "        elif(d>0):\n",
    "         x_1=(-b+d**(0.5))/(2*a)\n",
    "         x_2=(-b-d**(0.5))/(2*a)\n",
    "         print(x_1, x_2)\n",
    "\n",
    "        elif(d<0):\n",
    "         \n",
    "         x_2=complex((-b-(d)**(0.5))/(2*a))\n",
    "         x_1=complex((-b +(d)**(0.5))/(2*a))\n",
    "         print( x_2, x_1)"
   ]
  }
 ],
 "metadata": {
  "kernelspec": {
   "display_name": "Python 3",
   "language": "python",
   "name": "python3"
  },
  "language_info": {
   "codemirror_mode": {
    "name": "ipython",
    "version": 3
   },
   "file_extension": ".py",
   "mimetype": "text/x-python",
   "name": "python",
   "nbconvert_exporter": "python",
   "pygments_lexer": "ipython3",
   "version": "3.7.1"
  }
 },
 "nbformat": 4,
 "nbformat_minor": 2
}
