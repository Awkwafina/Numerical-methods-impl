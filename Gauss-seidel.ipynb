{
 "cells": [
  {
   "cell_type": "code",
   "execution_count": 1,
   "metadata": {},
   "outputs": [],
   "source": [
    "import numpy as np\n",
    "def gaussseidel(A,b,E):\n",
    "    x=np.empty(b.shape)\n",
    "    yold=np.empty(b.shape)\n",
    "    ynew=np.empty(b.shape)\n",
    "    err=np.empty(b.shape)\n",
    "    \n",
    "    for i in range(0,5,1):\n",
    "        for R in range(0,len(A),1):\n",
    "            old=x[0]\n",
    "            sum=0\n",
    "            for C in range(0,len(A),1):\n",
    "                sum=sum+x[C]*A[R,C]\n",
    "            x[R]=(b[R]-sum+x[R]*A[R,R])/A[R,R]\n",
    "            ynew=x\n",
    "        print(ynew)\n",
    "        for i in range(0,len(b),1):\n",
    "            err[i]=abs((ynew[i]-yold[i])/ynew[i])*100\n",
    "        error=max(err)\n",
    "        print(yold)\n",
    "        yold=ynew       \n",
    "        \n",
    "\n",
    "    return x\n",
    "            \n",
    "            "
   ]
  }
 ],
 "metadata": {
  "kernelspec": {
   "display_name": "Python 3",
   "language": "python",
   "name": "python3"
  },
  "language_info": {
   "codemirror_mode": {
    "name": "ipython",
    "version": 3
   },
   "file_extension": ".py",
   "mimetype": "text/x-python",
   "name": "python",
   "nbconvert_exporter": "python",
   "pygments_lexer": "ipython3",
   "version": "3.7.1"
  }
 },
 "nbformat": 4,
 "nbformat_minor": 2
}
