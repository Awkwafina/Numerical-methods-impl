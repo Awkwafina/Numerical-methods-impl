{
 "cells": [
  {
   "cell_type": "code",
   "execution_count": 1,
   "metadata": {},
   "outputs": [
    {
     "name": "stdout",
     "output_type": "stream",
     "text": [
      "[ 2.61666667 -2.79452381  7.00560952]\n",
      "[6.95313643e-310 2.67761181e-312 4.94065646e-324]\n",
      "[ 2.99055651 -2.49962468  7.00029081]\n",
      "[ 2.99055651 -2.49962468  7.00029081]\n",
      "[ 3.0000319  -2.49998799  6.99999928]\n",
      "[ 3.0000319  -2.49998799  6.99999928]\n",
      "[ 3.00000035 -2.50000004  6.99999999]\n",
      "[ 3.00000035 -2.50000004  6.99999999]\n",
      "[ 3.  -2.5  7. ]\n",
      "[ 3.  -2.5  7. ]\n",
      "[ 3.  -2.5  7. ]\n"
     ]
    }
   ],
   "source": [
    "import numpy as np\n",
    "def gaussseidel(A,b,E):\n",
    "    x=np.empty(b.shape)\n",
    "    yold=np.empty(b.shape)\n",
    "    ynew=np.empty(b.shape)\n",
    "    err=np.empty(b.shape)\n",
    "    \n",
    "    for i in range(0,5,1):\n",
    "        for R in range(0,len(A),1):\n",
    "            old=x[0]\n",
    "            sum=0\n",
    "            for C in range(0,len(A),1):\n",
    "                sum=sum+x[C]*A[R,C]\n",
    "            x[R]=(b[R]-sum+x[R]*A[R,R])/A[R,R]\n",
    "            ynew=x\n",
    "        print(ynew)\n",
    "        for i in range(0,len(b),1):\n",
    "            err[i]=abs((ynew[i]-yold[i])/ynew[i])*100\n",
    "        error=max(err)\n",
    "        print(yold)\n",
    "        yold=ynew       \n",
    "        \n",
    "\n",
    "    return x\n",
    "            \n",
    "            \n",
    "            \n",
    "A=np.array([[3,-0.1,-0.2],[0.1,7,-0.3],[0.3,-0.2,10]])\n",
    "d=np.array([7.85,-19.3,71.4])\n",
    "print(f'{gaussseidel(A,d,0.01)}')\n",
    "            \n",
    "            "
   ]
  },
  {
   "cell_type": "code",
   "execution_count": null,
   "metadata": {},
   "outputs": [],
   "source": [
    "print('mamam')"
   ]
  }
 ],
 "metadata": {
  "kernelspec": {
   "display_name": "Python 3",
   "language": "python",
   "name": "python3"
  },
  "language_info": {
   "codemirror_mode": {
    "name": "ipython",
    "version": 3
   },
   "file_extension": ".py",
   "mimetype": "text/x-python",
   "name": "python",
   "nbconvert_exporter": "python",
   "pygments_lexer": "ipython3",
   "version": "3.7.1"
  }
 },
 "nbformat": 4,
 "nbformat_minor": 2
}
