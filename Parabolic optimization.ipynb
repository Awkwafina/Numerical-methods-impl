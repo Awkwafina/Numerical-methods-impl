{
 "cells": [
  {
   "cell_type": "code",
   "execution_count": null,
   "metadata": {},
   "outputs": [],
   "source": [
    "import numpy as np\n",
    "def f(x):\n",
    "    return 2*np.sin(x)-x**2/10\n",
    "def parabolic(x0,x1,x2,n):\n",
    "    f0=f(x0)\n",
    "    f1=f(x1)\n",
    "    f2=f(x2)\n",
    "    for i in range(1,n+1,1):\n",
    "        \n",
    "        x3=(f0*(x1**2-x2**2)+f1*(x2**2-x0**2)+f2*(x0**2-x1**2))/(2*f0*(x1-x2)+2*f1*(x2-x0)+2*f2*(x0-x1))\n",
    "        f3=f(x3)\n",
    "        if(f3>f1 and x3>x1):\n",
    "            x0=x1\n",
    "            x1=x3\n",
    "            f0=f1\n",
    "            f1=f3\n",
    "        elif(f3>f1 and x3<x1):\n",
    "            x2=x1\n",
    "            x1=x3\n",
    "            f2=f1\n",
    "            f1=f3\n",
    "        elif(f3<f1 and x3>x1):\n",
    "            x2=x3\n",
    "            f2=f3\n",
    "        else:\n",
    "            x0=x3\n",
    "            f0=f3\n",
    "    if f3>f1:   \n",
    "        return x3,f3\n",
    "    else:\n",
    "        return x1,f1"
   ]
  }
 ],
 "metadata": {
  "kernelspec": {
   "display_name": "Python 3",
   "language": "python",
   "name": "python3"
  },
  "language_info": {
   "codemirror_mode": {
    "name": "ipython",
    "version": 3
   },
   "file_extension": ".py",
   "mimetype": "text/x-python",
   "name": "python",
   "nbconvert_exporter": "python",
   "pygments_lexer": "ipython3",
   "version": "3.7.1"
  }
 },
 "nbformat": 4,
 "nbformat_minor": 2
}
