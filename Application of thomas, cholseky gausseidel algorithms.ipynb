{
 "cells": [
  {
   "cell_type": "markdown",
   "metadata": {},
   "source": [
    "## Problem 1. \n",
    "Consider the three mass-four spring system in figure below"
   ]
  },
  {
   "cell_type": "markdown",
   "metadata": {},
   "source": [
    "<img src=\"springmass.png\" width=\"500\" height=\"300\" /><br>"
   ]
  },
  {
   "cell_type": "markdown",
   "metadata": {},
   "source": [
    "Determining the equations of motion from $\\Sigma F_x=ma$, for each mass using its free-body diagram results in the following differential equations:\n",
    "\n",
    "$$a_1+\\frac{k_1+k_2}{m_1}x_1-\\frac{k_2}{m_1}x_2=0$$\n",
    "\n",
    "$$a_2-\\frac{k_2}{m_2}x_1+\\frac{k_2+k_3}{m_2}x_2-\\frac{k_3}{m_2}x_3=0 \\qquad (1)$$\n",
    "\n",
    "$$a_3-\\frac{k_3}{m_3}x_2+\\frac{k_3+k_4}{m_3}x_3=0$$\n",
    "\n",
    "where $k_1=k_4=10\\,N/m, k_2=k_3=30\\,N/m$ and $m_1=m_2=m_3=2\\,kg$. Write the three equations in matrix form:\n",
    "\n",
    "$$[k/m\\,\\text{matrix}][\\text{displacement vector}\\,x]=[\\text{Acceleration vector}]$$\n",
    "\n",
    "At a specific time where $a_1=0.1\\,m/s^2, a_2=0.3\\,m/s^2$ and $a_3=0.1\\,m/s^2$, this forms a tridiagonal matrix. Solve for the acceleration of each mass using <b>your own implementation of the Thomas's algorithm</b> for solving the tridiagonal systems of equations."
   ]
  },
  {
   "cell_type": "markdown",
   "metadata": {},
   "source": [
    "#### 1.1\n",
    "$$\\begin{bmatrix}\n",
    "-20 & 15 & 0 \\\\\n",
    "15 & -30 & 15 \\\\\n",
    "0 & 15 & -20 \n",
    "\\end{bmatrix}   \\begin{bmatrix}\n",
    "x_1 \\\\\n",
    "x_2 \\\\\n",
    "x_3 \n",
    "\\end{bmatrix}=\\begin{bmatrix}\n",
    "0.1 \\\\\n",
    "0.3 \\\\\n",
    "0.1 \n",
    "\\end{bmatrix}     $$"
   ]
  },
  {
   "cell_type": "code",
   "execution_count": 2,
   "metadata": {},
   "outputs": [],
   "source": [
    "#1.2\n",
    "import numpy as np\n",
    "def thomas(f,g,e,b):\n",
    "    \n",
    "    for i in range(1,len(f),1):\n",
    "        f[i]=f[i]-g[i-1]*(e[i]/f[i-1])\n",
    "        b[i]=b[i]-b[i-1]*(e[i]/f[i-1])\n",
    "        \n",
    "    x=np.empty(b.shape)\n",
    "    x[len(b)-1]=b[len(b)-1]/f[len(b)-1]\n",
    "    for i in range(len(b)-2,-2,-1):\n",
    "        x[i]=(b[i]-g[i]*x[i+1])/f[i]\n",
    "    return x\n",
    "    "
   ]
  },
  {
   "cell_type": "code",
   "execution_count": 3,
   "metadata": {},
   "outputs": [
    {
     "name": "stdout",
     "output_type": "stream",
     "text": [
      "[-0.05745536 -0.06994048 -0.05892857]\n"
     ]
    }
   ],
   "source": [
    "#1.3\n",
    "f=np.array([-20,-30,-20])\n",
    "e=np.array([0,15,15])\n",
    "g=np.array([15,15,0])\n",
    "a=np.array([0.1,0.3,0.1])\n",
    "print(f'{thomas(f,g,e,a)}')\n"
   ]
  },
  {
   "cell_type": "markdown",
   "metadata": {},
   "source": [
    "## Problem 2.\n",
    "<b>a)</b> Implement the Cholesky factorization algorithm in python which is analogous to LU factorization but applicable only for symmetric matrices. Compute the Cholesky factrization for the matrix:\n",
    "\n",
    "$$A=\\begin{bmatrix}\n",
    "2 & 1 & 1 \\\\\n",
    "1 & 4 & 2 \\\\\n",
    "1 & 2 & 6 \n",
    "\\end{bmatrix} \\qquad (3)$$\n",
    "\n",
    "<b>b)</b> The following system of equations is designed to determine concentrations (the c's in g/$\\text m^3$) in a series of coupled reactors as a function of the amount of mass input to each reactor (the right-hand sides in g/day),\n",
    "\n",
    "$$15c_1-3c_2-c_3=3300 \\qquad$$\n",
    "$$-3c_1+18c_2-6c_3=1200 \\qquad (4)$$\n",
    "$$-4c_1-1c_2+12c_3=2400 \\qquad $$\n",
    "\n",
    "Solve this problem with the Gauss-seidel iteration method to $\\epsilon_S=5$%.</p>\n",
    "<b>Note:</b>This problem was given on the labaratory 8. "
   ]
  },
  {
   "cell_type": "code",
   "execution_count": 15,
   "metadata": {},
   "outputs": [],
   "source": [
    "#2.1\n",
    "def cholesky(A):\n",
    "    L=np.zeros(A.shape)\n",
    "    LT=np.zeros(A.shape)\n",
    "    for R in range (0,len(A),1):\n",
    "        for C in range(0,R+1,1):\n",
    "            sum=0\n",
    "            if (R==C):\n",
    "                for i in range(0,C,1):\n",
    "                    sum=sum+L[C,i]**2\n",
    "                L[C,C]=(A[C,C]-sum)**0.5\n",
    "            else:\n",
    "                for i in range(0,C,1):\n",
    "                    sum=sum+L[R,i]*L[C,i]\n",
    "                L[R,C]=(A[R,C]-sum)/L[C,C]\n",
    "    for C in range(0,len(A),1):\n",
    "        for R in range(0,len(A),1):\n",
    "            LT[C,R]=L[R,C]\n",
    "    return L,LT"
   ]
  },
  {
   "cell_type": "code",
   "execution_count": 16,
   "metadata": {},
   "outputs": [
    {
     "name": "stdout",
     "output_type": "stream",
     "text": [
      "(array([[ 2.,  0.,  0.],\n",
      "       [ 6.,  1.,  0.],\n",
      "       [-8.,  5.,  3.]]), array([[ 2.,  6., -8.],\n",
      "       [ 0.,  1.,  5.],\n",
      "       [ 0.,  0.,  3.]]))\n"
     ]
    }
   ],
   "source": [
    "AB=np.array([[4,12,-16],[12,37,-43],[-16,-43,98]])\n",
    "print(f'{cholesky(AB)}')\n"
   ]
  },
  {
   "cell_type": "code",
   "execution_count": 18,
   "metadata": {},
   "outputs": [],
   "source": [
    "#2.3\n",
    "import numpy as np\n",
    "def gaussseidel(A,b,E):\n",
    "    x=np.zeros(len(b))\n",
    "    xold=np.zeros(len(b))\n",
    "    error=100\n",
    "    err=np.zeros(len(b))\n",
    "    while error>E:\n",
    "        for R in range(0,len(A),1):\n",
    "            sum=0\n",
    "            for C in range(0,len(A),1):\n",
    "                sum=sum+x[C]*A[R,C]\n",
    "            x[R]=(b[R]-sum+x[R]*A[R,R])/A[R,R]\n",
    "        for i in range(0,len(b),1):\n",
    "            err[i]=abs((x[i]-xold[i])/x[i])*100\n",
    "        error=np.max(err)\n",
    "        xold=np.copy(x)  \n",
    "    \n",
    "    return x"
   ]
  },
  {
   "cell_type": "code",
   "execution_count": 19,
   "metadata": {},
   "outputs": [
    {
     "name": "stdout",
     "output_type": "stream",
     "text": [
      "[283.70282304 217.80331743 312.71788413]\n"
     ]
    }
   ],
   "source": [
    "#2.4\n",
    "A=np.array([[15,-3,-1],[-3,18,-6],[-4,-1,12]])\n",
    "b=np.array([3300,1200,2400])\n",
    "print(f'{gaussseidel(A,b,5)}')"
   ]
  }
 ],
 "metadata": {
  "kernelspec": {
   "display_name": "Python 3",
   "language": "python",
   "name": "python3"
  },
  "language_info": {
   "codemirror_mode": {
    "name": "ipython",
    "version": 3
   },
   "file_extension": ".py",
   "mimetype": "text/x-python",
   "name": "python",
   "nbconvert_exporter": "python",
   "pygments_lexer": "ipython3",
   "version": "3.7.1"
  }
 },
 "nbformat": 4,
 "nbformat_minor": 2
}
