{
 "cells": [
  {
   "cell_type": "code",
   "execution_count": null,
   "metadata": {},
   "outputs": [],
   "source": [
    "from math import ceil, log\n",
    "\n",
    "def false(f, x1,x2,tol):\n",
    "    n=ceil(log((x2-x1)/tol)/log(2))\n",
    "    \n",
    "    while tol<=np.abs(:\n",
    "        xr=x2-(f(x2)*(x2-x1)/(f(x2)-f(x1))\n",
    "        \n",
    "        if f(xr)==0.0:\n",
    "               break\n",
    "            print(f'the root is found to be in x={xr} in {i} iteration(s)')\n",
    "            return\n",
    "        elif f(x1)*f(xr)<0:\n",
    "            x2=xr\n",
    "        else:\n",
    "            x1=xr\n",
    "    print(f'root is found at x={xr}')\n",
    "    print(f'Tolerance {tol} requires {n} iterations')"
   ]
  }
 ],
 "metadata": {
  "kernelspec": {
   "display_name": "Python 3",
   "language": "python",
   "name": "python3"
  },
  "language_info": {
   "codemirror_mode": {
    "name": "ipython",
    "version": 3
   },
   "file_extension": ".py",
   "mimetype": "text/x-python",
   "name": "python",
   "nbconvert_exporter": "python",
   "pygments_lexer": "ipython3",
   "version": "3.7.1"
  }
 },
 "nbformat": 4,
 "nbformat_minor": 2
}
