{
 "cells": [
  {
   "cell_type": "markdown",
   "metadata": {},
   "source": [
    "# Factorial function"
   ]
  },
  {
   "cell_type": "code",
   "execution_count": 15,
   "metadata": {},
   "outputs": [
    {
     "name": "stdout",
     "output_type": "stream",
     "text": [
      "5\n",
      "120\n"
     ]
    }
   ],
   "source": [
    "def factorial(n):\n",
    " if (n==0):\n",
    "    return 1\n",
    " else:\n",
    "    return n*factorial(n-1)\n",
    "\n",
    "x=int(input())\n",
    "print(factorial(x))\n"
   ]
  },
  {
   "cell_type": "markdown",
   "metadata": {},
   "source": [
    "# Binomial function"
   ]
  },
  {
   "cell_type": "code",
   "execution_count": 18,
   "metadata": {},
   "outputs": [
    {
     "name": "stdout",
     "output_type": "stream",
     "text": [
      "5\n",
      "5\n",
      "10\n",
      "10\n",
      "5\n",
      "1\n"
     ]
    }
   ],
   "source": [
    "def factorial(n):\n",
    " if (n==0):\n",
    "    return 1\n",
    " else:\n",
    "    return n*factorial(n-1)\n",
    "\n",
    "x=int(input())\n",
    "for k in range(1,x+1):\n",
    "    print(int(factorial(x)/(factorial(k)*(factorial(x-k)))))\n",
    "            \n",
    "            \n",
    "            \n",
    "    "
   ]
  }
 ],
 "metadata": {
  "kernelspec": {
   "display_name": "Python 3",
   "language": "python",
   "name": "python3"
  },
  "language_info": {
   "codemirror_mode": {
    "name": "ipython",
    "version": 3
   },
   "file_extension": ".py",
   "mimetype": "text/x-python",
   "name": "python",
   "nbconvert_exporter": "python",
   "pygments_lexer": "ipython3",
   "version": "3.7.1"
  }
 },
 "nbformat": 4,
 "nbformat_minor": 2
}
