{
 "cells": [
  {
   "cell_type": "code",
   "execution_count": null,
   "metadata": {},
   "outputs": [],
   "source": [
    "import numpy as np\n",
    "def f(x):\n",
    "    return 2*np.sin(x)-x**2/10\n",
    "def fd1(x):\n",
    "    return 2*np.cos(x)-x/5\n",
    "def fd2(x):\n",
    "    return -2*np.sin(x)-1/5\n",
    "def newton(x0,E):\n",
    "    err=100\n",
    "    xold=x0\n",
    "    while err>E:\n",
    "        xnew=xold-fd1(xold)/fd2(xold)\n",
    "        err=abs((xnew-xold)/xnew)*100\n",
    "        xold=xnew\n",
    "        print(f'{xnew}')\n",
    "    return xnew"
   ]
  }
 ],
 "metadata": {
  "kernelspec": {
   "display_name": "Python 3",
   "language": "python",
   "name": "python3"
  },
  "language_info": {
   "codemirror_mode": {
    "name": "ipython",
    "version": 3
   },
   "file_extension": ".py",
   "mimetype": "text/x-python",
   "name": "python",
   "nbconvert_exporter": "python",
   "pygments_lexer": "ipython3",
   "version": "3.7.1"
  }
 },
 "nbformat": 4,
 "nbformat_minor": 2
}
