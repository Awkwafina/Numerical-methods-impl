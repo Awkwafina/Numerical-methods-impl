{
 "cells": [
  {
   "cell_type": "code",
   "execution_count": 1,
   "metadata": {},
   "outputs": [],
   "source": [
    "from math import ceil, log\n",
    "\n",
    "def bisect(f, x1,x2,tol):\n",
    "    n=ceil(log((x2-x1)/tol)/log(2))\n",
    "    \n",
    "    for i in range(1,1+n):\n",
    "        xr=(x1+x2)/2\n",
    "        fxr=f(xr)\n",
    "        \n",
    "        if fxr==0.0:\n",
    "            print(f'the root is found to be in x={xr} in {i} iteration(s)')\n",
    "            return\n",
    "        if f(x1)*f(xr)<0:\n",
    "            x2=x1\n",
    "        if f(xr)*f(x2)<0:\n",
    "            x1=xr\n",
    "    print(f'root is found at x={xr}')\n",
    "    print(f'Tolerance {tol} requires {n} iterations')"
   ]
  }
 ],
 "metadata": {
  "kernelspec": {
   "display_name": "Python 3",
   "language": "python",
   "name": "python3"
  },
  "language_info": {
   "codemirror_mode": {
    "name": "ipython",
    "version": 3
   },
   "file_extension": ".py",
   "mimetype": "text/x-python",
   "name": "python",
   "nbconvert_exporter": "python",
   "pygments_lexer": "ipython3",
   "version": "3.7.1"
  }
 },
 "nbformat": 4,
 "nbformat_minor": 2
}
