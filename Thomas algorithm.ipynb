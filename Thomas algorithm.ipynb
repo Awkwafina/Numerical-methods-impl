{
 "cells": [
  {
   "cell_type": "code",
   "execution_count": 1,
   "metadata": {},
   "outputs": [],
   "source": [
    "import numpy as np\n",
    "def thomas(f,g,e,b):\n",
    "    \n",
    "    for i in range(1,len(f),1):\n",
    "        f[i]=f[i]-g[i-1]*(e[i]/f[i-1])\n",
    "        b[i]=b[i]-b[i-1]*(e[i]/f[i-1])\n",
    "        \n",
    "    x=np.empty(b.shape)\n",
    "    x[len(b)-1]=b[len(b)-1]/f[len(b)-1]\n",
    "    for i in range(len(b)-2,-2,-1):\n",
    "        x[i]=(b[i]-g[i]*x[i+1])/f[i]\n",
    "    return x\n",
    "    "
   ]
  },
  {
   "cell_type": "code",
   "execution_count": 2,
   "metadata": {},
   "outputs": [
    {
     "name": "stdout",
     "output_type": "stream",
     "text": [
      "[ 65.96983437  93.77846211 124.53822833 159.47952369]\n"
     ]
    }
   ],
   "source": [
    "f=np.array([2.04,2.04,2.04,2.04])\n",
    "e=np.array([0,-1,-1,-1])\n",
    "g=np.array([-1,-1,-1,0])\n",
    "b=np.array([40.8,0.8,0.8,200.8])\n",
    "print(f'{thomas(f,g,e,b)}')"
   ]
  },
  {
   "cell_type": "code",
   "execution_count": null,
   "metadata": {},
   "outputs": [],
   "source": []
  }
 ],
 "metadata": {
  "kernelspec": {
   "display_name": "Python 3",
   "language": "python",
   "name": "python3"
  },
  "language_info": {
   "codemirror_mode": {
    "name": "ipython",
    "version": 3
   },
   "file_extension": ".py",
   "mimetype": "text/x-python",
   "name": "python",
   "nbconvert_exporter": "python",
   "pygments_lexer": "ipython3",
   "version": "3.7.1"
  }
 },
 "nbformat": 4,
 "nbformat_minor": 2
}
