{
 "cells": [
  {
   "cell_type": "code",
   "execution_count": 94,
   "metadata": {},
   "outputs": [],
   "source": [
    "import numpy as np\n",
    "\n",
    "def f(x):\n",
    "    return 2*np.sin(x)-x**2/10\n",
    "\n",
    "def gold(x_l,x_u,tol):\n",
    "    d=(np.sqrt(5)-1)*(x_u-x_l)/2\n",
    "    d0=x_u-x_l\n",
    "    imax=np.ceil(np.log(tol/d0)/np.log((np.sqrt(5)-1)/2))\n",
    "    x1=x_l+d\n",
    "    x2=x_u-d\n",
    "    f1=f(x1)\n",
    "    f2=f(x2)\n",
    "    for i in range(1,17,1):\n",
    "        d=(np.sqrt(5)-1)*(x_u-x_l)/2\n",
    "        if (f1>f2):\n",
    "            x_l=x2\n",
    "            x2=x1\n",
    "            x1=x_l+d\n",
    "            f2=f1\n",
    "            f1=f(x1)\n",
    "        else:\n",
    "            x_u=x1\n",
    "            x1=x2\n",
    "            x2=x_u-d\n",
    "            f1=f2\n",
    "            f2=f(x2)\n",
    "    if f1>f2:\n",
    "        return x1,f1\n",
    "    else:\n",
    "        return x2,f2\n",
    "        \n",
    "                   "
   ]
  }
 ],
 "metadata": {
  "kernelspec": {
   "display_name": "Python 3",
   "language": "python",
   "name": "python3"
  },
  "language_info": {
   "codemirror_mode": {
    "name": "ipython",
    "version": 3
   },
   "file_extension": ".py",
   "mimetype": "text/x-python",
   "name": "python",
   "nbconvert_exporter": "python",
   "pygments_lexer": "ipython3",
   "version": "3.7.1"
  }
 },
 "nbformat": 4,
 "nbformat_minor": 2
}
